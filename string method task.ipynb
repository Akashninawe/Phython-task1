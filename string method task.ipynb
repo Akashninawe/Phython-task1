{
 "cells": [
  {
   "cell_type": "markdown",
   "id": "a77b1aca-3331-4b65-9c69-c8b70c4ea484",
   "metadata": {},
   "source": [
    "# string  method\n"
   ]
  },
  {
   "cell_type": "markdown",
   "id": "a261d7ef-637f-426d-9cce-ba03870399b8",
   "metadata": {},
   "source": [
    "# string captitalized method character convert first letter uppercase"
   ]
  },
  {
   "cell_type": "code",
   "execution_count": 3,
   "id": "34912d60-fc1d-4d3e-af61-05adc3a7bbe5",
   "metadata": {},
   "outputs": [
    {
     "name": "stdout",
     "output_type": "stream",
     "text": [
      " phython is programming language\n"
     ]
    }
   ],
   "source": [
    "str1 = ' phython is programming language'\n",
    "sentence = str1.capitalize()\n",
    "print(sentence)"
   ]
  },
  {
   "cell_type": "markdown",
   "id": "beb2718b-4da4-4ddb-966e-76842b0535e3",
   "metadata": {},
   "source": [
    "# string casefold method character convert first letter lowercase"
   ]
  },
  {
   "cell_type": "code",
   "execution_count": 13,
   "id": "46939f8c-64f3-41ba-ac22-6d80a8382bff",
   "metadata": {},
   "outputs": [
    {
     "name": "stdout",
     "output_type": "stream",
     "text": [
      " phython is programming language\n"
     ]
    }
   ],
   "source": [
    "str2 = ' Phython is programming language'\n",
    "sentence = str1.casefold()\n",
    "print(sentence)"
   ]
  },
  {
   "cell_type": "markdown",
   "id": "a19b4fa4-4a99-422c-8f4d-87e85b1ac4bb",
   "metadata": {},
   "source": [
    "# string center method character convert first letter center"
   ]
  },
  {
   "cell_type": "code",
   "execution_count": 15,
   "id": "2f4a3f75-d05f-4988-a4e2-547d44b313eb",
   "metadata": {},
   "outputs": [
    {
     "name": "stdout",
     "output_type": "stream",
     "text": [
      "            ORANGE            \n"
     ]
    }
   ],
   "source": [
    "str3  = 'ORANGE'\n",
    "sentence = str3.center(30)\n",
    "print(sentence)"
   ]
  },
  {
   "cell_type": "markdown",
   "id": "40a9dd58-0ff0-4f50-b846-57d8e0aad42d",
   "metadata": {},
   "source": [
    "# string end with specific that returns true or false"
   ]
  },
  {
   "cell_type": "code",
   "execution_count": 29,
   "id": "3cc4e670-a67c-47c8-9e21-fa8186b45cfb",
   "metadata": {},
   "outputs": [
    {
     "name": "stdout",
     "output_type": "stream",
     "text": [
      "False\n"
     ]
    }
   ],
   "source": [
    "str5 = \"Hello, welcome to my world.\"\n",
    "sentence= str5.endswith(\",\")\n",
    "print(sentence)"
   ]
  },
  {
   "cell_type": "code",
   "execution_count": 33,
   "id": "31714edf-bfaa-4c7b-8754-7f5b7a72461a",
   "metadata": {},
   "outputs": [
    {
     "name": "stdout",
     "output_type": "stream",
     "text": [
      "True\n"
     ]
    }
   ],
   "source": [
    "str5 = \"Hello, welcome to my world.\"\n",
    "sentence= str5.endswith(\".\")\n",
    "print(sentence)"
   ]
  },
  {
   "cell_type": "markdown",
   "id": "951bed09-da00-4146-8470-b99ba1bbf897",
   "metadata": {},
   "source": [
    "# string count method character "
   ]
  },
  {
   "cell_type": "code",
   "execution_count": 23,
   "id": "c8719d9d-e762-4d6d-b996-0d0bfb1c8089",
   "metadata": {},
   "outputs": [
    {
     "name": "stdout",
     "output_type": "stream",
     "text": [
      "2\n"
     ]
    }
   ],
   "source": [
    "str4 = 'my orange are my favourite fruit'\n",
    "sentence = str4.count('my')\n",
    "print(sentence)"
   ]
  },
  {
   "cell_type": "markdown",
   "id": "1a1c6235-73a0-4f6e-ab91-16b9198d8f5e",
   "metadata": {},
   "source": [
    "# string find method character"
   ]
  },
  {
   "cell_type": "code",
   "execution_count": 8,
   "id": "24ab08be-cf4e-4209-94a8-5b23d2648eb1",
   "metadata": {},
   "outputs": [
    {
     "name": "stdout",
     "output_type": "stream",
     "text": [
      "16\n"
     ]
    }
   ],
   "source": [
    "str6 = 'Hello , my nane is Akash'\n",
    "sentence = str6.find('is')\n",
    "print(sentence)"
   ]
  },
  {
   "cell_type": "markdown",
   "id": "15e568fb-0808-4028-bd6e-0f81e1fa1279",
   "metadata": {},
   "source": [
    "# string format method character"
   ]
  },
  {
   "cell_type": "code",
   "execution_count": 12,
   "id": "1689c5b3-2679-4f25-b114-159345d2efe8",
   "metadata": {},
   "outputs": [
    {
     "name": "stdout",
     "output_type": "stream",
     "text": [
      "for only  44.000 dollars!\n"
     ]
    }
   ],
   "source": [
    "str7 = 'for only {price: .3f} dollars!'\n",
    "print(str7.format(price = 44))"
   ]
  },
  {
   "cell_type": "markdown",
   "id": "a934c903-dbe8-4594-a7c7-ae88d47ac2f3",
   "metadata": {},
   "source": [
    "# string Index method"
   ]
  },
  {
   "cell_type": "code",
   "execution_count": 16,
   "id": "a1390d63-d10c-4cd6-8762-0a4f019640c9",
   "metadata": {},
   "outputs": [
    {
     "name": "stdout",
     "output_type": "stream",
     "text": [
      "2\n"
     ]
    }
   ],
   "source": [
    "str8 = 'this is a class'\n",
    "sentence = str8.index('i')\n",
    "print(sentence)\n"
   ]
  },
  {
   "cell_type": "markdown",
   "id": "46325856-37f1-46b5-9135-b4a1c9b0d4fb",
   "metadata": {},
   "source": [
    "# string Join Method"
   ]
  },
  {
   "cell_type": "code",
   "execution_count": 19,
   "id": "2a1b0b36-863e-44e4-9b7b-2707c17de33e",
   "metadata": {},
   "outputs": [
    {
     "name": "stdout",
     "output_type": "stream",
     "text": [
      "18+5+5\n"
     ]
    }
   ],
   "source": [
    "str9 = ('18','5','5')\n",
    "sentence = '+'.join(str9)\n",
    "print(sentence)"
   ]
  },
  {
   "cell_type": "markdown",
   "id": "71634946-97c3-46b4-9e6e-eba8965f98f9",
   "metadata": {},
   "source": [
    "# string ljust  method"
   ]
  },
  {
   "cell_type": "code",
   "execution_count": 25,
   "id": "61f05080-6f25-4577-b3c6-25e06f925dc2",
   "metadata": {},
   "outputs": [
    {
     "name": "stdout",
     "output_type": "stream",
     "text": [
      "peacock          is national bird\n"
     ]
    }
   ],
   "source": [
    "str10 = 'peacock'\n",
    "sentence = str10.ljust(16)\n",
    "print(sentence,'is national bird')"
   ]
  },
  {
   "cell_type": "markdown",
   "id": "3f1b7ccd-82a3-4c76-91d8-24a07a508f12",
   "metadata": {},
   "source": [
    "# string lower method"
   ]
  },
  {
   "cell_type": "code",
   "execution_count": 28,
   "id": "90250672-556f-415d-a216-cdfa246a833b",
   "metadata": {},
   "outputs": [
    {
     "name": "stdout",
     "output_type": "stream",
     "text": [
      "my name is akash ninawe\n"
     ]
    }
   ],
   "source": [
    "str11 = 'MY NAME IS AKASH NINAWE'\n",
    "sentence = str11.lower()\n",
    "print (sentence)"
   ]
  },
  {
   "cell_type": "markdown",
   "id": "3d17ab17-bcd6-4895-bc73-7aa6b7bf6b3d",
   "metadata": {},
   "source": [
    "# string lstrip method (remove spaces to the left of the string)"
   ]
  },
  {
   "cell_type": "code",
   "execution_count": 1,
   "id": "d709aaa7-439f-41ff-8368-7b984c587e72",
   "metadata": {},
   "outputs": [
    {
     "name": "stdout",
     "output_type": "stream",
     "text": [
      "of all fruits orange is my favourite\n"
     ]
    }
   ],
   "source": [
    "str12 = ' orange'\n",
    "sentence = str12.lstrip()\n",
    "print ('of all fruits',sentence,'is my favourite')"
   ]
  },
  {
   "cell_type": "markdown",
   "id": "23a8efb4-90e3-47fe-84b3-bfbe0559babb",
   "metadata": {},
   "source": [
    "# string maketrans method"
   ]
  },
  {
   "cell_type": "code",
   "execution_count": 4,
   "id": "3a5a71a9-8fda-4560-9620-d494df35b43c",
   "metadata": {},
   "outputs": [
    {
     "name": "stdout",
     "output_type": "stream",
     "text": [
      "Hello,Pkash\n"
     ]
    }
   ],
   "source": [
    "str13 = 'Hello,Akash'\n",
    "sentence = str13.maketrans('A','P')\n",
    "print(str13.translate(sentence))"
   ]
  },
  {
   "cell_type": "markdown",
   "id": "a8572983-96a0-43b9-aa16-e525ee7b6d78",
   "metadata": {},
   "source": [
    "# string Partition method"
   ]
  },
  {
   "cell_type": "code",
   "execution_count": 9,
   "id": "a547211f-5d34-4f4f-9bc5-5d9842a4d3dd",
   "metadata": {},
   "outputs": [
    {
     "name": "stdout",
     "output_type": "stream",
     "text": [
      "(' I could eat ', 'apple', ' all day')\n"
     ]
    }
   ],
   "source": [
    "str14 = ' I could eat apple all day'\n",
    "sentence = str14.partition('apple')\n",
    "print(sentence)"
   ]
  },
  {
   "cell_type": "markdown",
   "id": "df99b52a-1136-4b6a-bff5-20fd33969f0b",
   "metadata": {},
   "source": [
    "# string Replace method"
   ]
  },
  {
   "cell_type": "code",
   "execution_count": 12,
   "id": "3ab009e8-38a1-4cfd-b714-4af4ba6ee3a0",
   "metadata": {},
   "outputs": [
    {
     "name": "stdout",
     "output_type": "stream",
     "text": [
      " I like orange\n"
     ]
    }
   ],
   "source": [
    "str15 = ' I like apple'\n",
    "sentence = str15.replace('apple','orange')\n",
    "print(sentence)"
   ]
  },
  {
   "cell_type": "code",
   "execution_count": null,
   "id": "edec6ee0-70bb-48ab-9a6b-a07a15b0f7b3",
   "metadata": {},
   "outputs": [],
   "source": []
  }
 ],
 "metadata": {
  "kernelspec": {
   "display_name": "Python 3 (ipykernel)",
   "language": "python",
   "name": "python3"
  },
  "language_info": {
   "codemirror_mode": {
    "name": "ipython",
    "version": 3
   },
   "file_extension": ".py",
   "mimetype": "text/x-python",
   "name": "python",
   "nbconvert_exporter": "python",
   "pygments_lexer": "ipython3",
   "version": "3.11.7"
  }
 },
 "nbformat": 4,
 "nbformat_minor": 5
}
